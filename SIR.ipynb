{
 "cells": [
  {
   "cell_type": "code",
   "execution_count": null,
   "id": "44fda6d3-8c49-476d-b480-f567e2ab2f21",
   "metadata": {
    "tags": []
   },
   "outputs": [],
   "source": [
    "!pip3 install --upgrade tomato-engine"
   ]
  },
  {
   "cell_type": "code",
   "execution_count": null,
   "id": "20190640-fdaf-449f-9369-8e905212bbb2",
   "metadata": {},
   "outputs": [],
   "source": [
    "from tomato.classes import cell\n",
    "import tomato as tt\n",
    "import numpy as np\n",
    "import matplotlib.pyplot as plt\n",
    "from tomato.functions import utils"
   ]
  },
  {
   "cell_type": "code",
   "execution_count": null,
   "id": "7d2d0c84-0b10-494b-8f78-2d0b59b80ed2",
   "metadata": {},
   "outputs": [],
   "source": [
    "# mporta o módulo de regras\n",
    "from my_rules import SIR_model as rule\n",
    "\n",
    "# Board dimensions in number of automata in each direction\n",
    "board_dimensions = (100, 100)\n",
    "\n",
    "# Scaling factor for the board in the display\n",
    "cell_size = 4\n",
    "\n",
    "np.random.seed(5)\n",
    "\n",
    "state_matrix = np.random.choice(a = [0,-1,1], size = board_dimensions, p =[.4,.3,.3])\n",
    "\n",
    "board = tt.Board(rule, cell_size=cell_size)"
   ]
  },
  {
   "cell_type": "code",
   "execution_count": null,
   "id": "f4152cc8-3247-4111-9ea2-a119e3a54e80",
   "metadata": {},
   "outputs": [],
   "source": [
    "# Opens the simulation window\n",
    "board.start(state_matrix, generate_gif = True, generations = 100)#generate_gif = True, generations = 100)"
   ]
  },
  {
   "cell_type": "code",
   "execution_count": null,
   "id": "7d3f046e-0da6-417b-9296-d9fa96c7c1c3",
   "metadata": {},
   "outputs": [],
   "source": [
    "N = []\n",
    "B = []\n",
    "S = []\n",
    "board.generation = 0\n",
    "board.load_state(state_matrix)\n",
    "while board.generation <= 50:\n",
    "    N.append(sum(list(linha).count(0) for linha in board.state_matrix))\n",
    "    B.append(sum(list(linha).count(1) for linha in board.state_matrix))\n",
    "    S.append(sum(list(linha).count(-1) for linha in board.state_matrix))\n",
    "    board.update()\n",
    "\n",
    "gerações = list(range(0,51))\n",
    "plt.plot(gerações,N, label = 'Neutros')\n",
    "plt.plot(gerações,B, label = 'Believers')\n",
    "plt.plot(gerações,S, label = 'Skeptical')\n",
    "plt.legend(loc = 7, bbox_to_anchor=(0.9,0.4))\n",
    "plt.savefig('alpha04.png')\n",
    "plt.show()"
   ]
  },
  {
   "cell_type": "code",
   "execution_count": null,
   "id": "6ed20bae-7ba8-4679-b21c-9563df7da5a0",
   "metadata": {},
   "outputs": [],
   "source": [
    "board.load_state(state_matrix)\n",
    "começo = board.state_matrix.copy()\n",
    "\n",
    "while board.generation <= 100:\n",
    "    board.update()\n",
    "fim = board.state_matrix"
   ]
  },
  {
   "cell_type": "code",
   "execution_count": null,
   "id": "dcc2e193-c411-41a6-92d4-b0e548c1f6fc",
   "metadata": {},
   "outputs": [],
   "source": [
    "pN_antes = sum(list(linha).count(0) for linha in começo)/100\n",
    "pS_antes = sum(list(linha).count(-1) for linha in começo)/100\n",
    "pB_antes = sum(list(linha).count(1) for linha in começo)/100\n",
    "pS_dps = sum(list(linha).count(-1) for linha in fim)/100\n",
    "pB_dps = sum(list(linha).count(1) for linha in fim)/100\n",
    "pN_dps = sum(list(linha).count(0) for linha in fim)/100\n",
    "\n",
    "val_antes = [pB_antes, pN_antes, pS_antes]\n",
    "val_dps = [pB_dps, pN_dps, pS_dps]\n",
    "\n",
    "label = ['Believers', 'Neutros', 'Skepitical']"
   ]
  },
  {
   "cell_type": "code",
   "execution_count": null,
   "id": "5bc0815b-e430-42f5-b84f-9f3f6845f60f",
   "metadata": {},
   "outputs": [],
   "source": [
    "fig = plt.figure(figsize =(10, 7)) \n",
    "plt.pie(val_antes, labels = label, autopct= '%1.1f%%') \n",
    "plt.savefig('antes_060202')\n",
    "plt.show() "
   ]
  },
  {
   "cell_type": "code",
   "execution_count": null,
   "id": "5621f98b-bd10-4cd7-91f9-b68cf29bdef9",
   "metadata": {},
   "outputs": [],
   "source": [
    "fig = plt.figure(figsize =(10, 7)) \n",
    "plt.pie(val_dps, labels = label, autopct= '%1.1f%%') \n",
    "plt.savefig('dps_060202')\n",
    "plt.show() "
   ]
  },
  {
   "cell_type": "code",
   "execution_count": null,
   "id": "b242cf44-a485-4108-8be6-b58e3def8954",
   "metadata": {},
   "outputs": [],
   "source": [
    "same, a_1d1, a_1d0, a1d_1, a1d0, a0d_1, a0d1 = [0,0,0,0,0,0,0]\n",
    "for l_a,l_d in zip(começo.tolist(), fim.tolist()):\n",
    "    for a, d in zip(l_a, l_d):\n",
    "        if a == 0 and d == 1:\n",
    "            a0d1 += 1\n",
    "        if a == 0 and d == -1:\n",
    "            a0d_1 += 1\n",
    "        if a == 1 and d == 0:\n",
    "            a1d0 += 1\n",
    "        if a == 1 and d == -1:\n",
    "            a1d_1 += 1\n",
    "        if a == -1 and d == 0:\n",
    "            a_1d0 += 1\n",
    "        if a == -1 and d == 1:\n",
    "            a_1d1 += 1\n",
    "        else:\n",
    "            same += 1"
   ]
  },
  {
   "cell_type": "code",
   "execution_count": null,
   "id": "a3b0f627-88c8-4e02-9a05-79c7c18b356c",
   "metadata": {},
   "outputs": [],
   "source": [
    "print(same, a_1d1, a_1d0, a1d_1, a1d0, a0d_1, a0d1)"
   ]
  },
  {
   "cell_type": "code",
   "execution_count": null,
   "id": "c9a86f69-5d63-4694-b4ca-c0adc8054eb5",
   "metadata": {},
   "outputs": [],
   "source": [
    "import numpy as np \n",
    "import matplotlib.pyplot as plt\n",
    "fig = plt.figure(figsize =(10, 7)) \n",
    "matrx = np.random.rayleigh(size =(100,100))\n",
    "  \n",
    "# plt.hist(matrx.tolist(), bins = [0, .10, .20, .30, \n",
    "#                     .40, .50, .60, .70, \n",
    "#                     .80, .90, 1])  \n",
    "size = 100000\n",
    "#values = np.random.normal(0.5, 0.1, size) \n",
    "#values = np.random.rand(size) \n",
    "values = np.random.beta(5, 1, size)\n",
    "\n",
    "plt.hist(values, 100) \n",
    "plt.show() \n",
    "  \n",
    "plt.title(\"Numpy Histogram\")  \n",
    "plt.show() "
   ]
  },
  {
   "cell_type": "code",
   "execution_count": null,
   "id": "f3c7fc4e-b3f4-4458-97c6-2b7e1bb35bd7",
   "metadata": {},
   "outputs": [],
   "source": [
    "prob_matrix.tolist()"
   ]
  },
  {
   "cell_type": "markdown",
   "id": "10db58cd-ca3c-4329-a1d3-eda1abc4ebca",
   "metadata": {},
   "source": [
    "### Resumo usando várias seeds"
   ]
  },
  {
   "cell_type": "code",
   "execution_count": null,
   "id": "567a77f9-eeef-4239-86cd-563cb3ecf8cb",
   "metadata": {},
   "outputs": [],
   "source": [
    "val_antes =[]\n",
    "val_dps=[]\n",
    "v = []\n",
    "\n",
    "for seed in range(0,30):\n",
    "    np.random.seed(seed)\n",
    "\n",
    "    board_dimensions = (100, 100)\n",
    "\n",
    "    cell_size = 4\n",
    "\n",
    "    state_matrix = np.random.choice(a = [0,-1,1], size = board_dimensions, p =[.4,.3,.3])\n",
    "\n",
    "    board = tt.Board(rule, cell_size=cell_size)\n",
    "    \n",
    "    board.load_state(state_matrix)\n",
    "    começo = board.state_matrix.copy()\n",
    "\n",
    "    while board.generation <= 50:\n",
    "        board.update()\n",
    "    fim = board.state_matrix\n",
    "    \n",
    "    pN_antes = sum(list(linha).count(0) for linha in começo)/100\n",
    "    pS_antes = sum(list(linha).count(-1) for linha in começo)/100\n",
    "    pB_antes = sum(list(linha).count(1) for linha in começo)/100\n",
    "\n",
    "\n",
    "    pN_dps = sum(list(linha).count(0) for linha in fim)/100\n",
    "    pS_dps = sum(list(linha).count(-1) for linha in fim)/100\n",
    "    pB_dps = sum(list(linha).count(1) for linha in fim)/100\n",
    "\n",
    "\n",
    "    val_antes.append([pB_antes, pN_antes, pS_antes])\n",
    "    val_dps.append([pB_dps, pN_dps, pS_dps])"
   ]
  },
  {
   "cell_type": "code",
   "execution_count": null,
   "id": "27cc9934-0662-40ab-aa17-9bde990bbe3a",
   "metadata": {},
   "outputs": [],
   "source": [
    "i1 = []\n",
    "i2 =[]\n",
    "i3 =[]\n",
    "\n",
    "t1=[]\n",
    "t2=[]\n",
    "t3=[]\n",
    "for lin in val_dps:\n",
    "    i1.append(lin[0])\n",
    "    i2.append(lin[1])\n",
    "    i3.append(lin[2])\n",
    "for lin in val_antes:   \n",
    "    t1.append(lin[0])\n",
    "    t2.append(lin[1])\n",
    "    t3.append(lin[2])"
   ]
  },
  {
   "cell_type": "code",
   "execution_count": null,
   "id": "89db9f20-74d5-4431-9f07-7b4b27d98d43",
   "metadata": {},
   "outputs": [],
   "source": [
    "means_a = [np.mean(t1), np.mean(t2), np.mean(t3)]\n",
    "means_d = [np.mean(i1), np.mean(i2), np.mean(i3)]"
   ]
  },
  {
   "cell_type": "code",
   "execution_count": null,
   "id": "eb36ff0d-863c-4720-8cb6-fe65bffb3c1f",
   "metadata": {},
   "outputs": [],
   "source": [
    "label = ['Believers', 'Neutros', 'Skepitical']\n",
    "\n",
    "fig = plt.figure(figsize =(10, 7)) \n",
    "plt.pie(means_d, labels = label, autopct= '%1.1f%%') \n",
    "plt.savefig('mean_d')\n",
    "\n",
    "fig = plt.figure(figsize =(10, 7)) \n",
    "plt.pie(means_a, labels = label, autopct= '%1.1f%%') \n",
    "plt.savefig('mean_a')\n",
    "plt.show() "
   ]
  },
  {
   "cell_type": "code",
   "execution_count": null,
   "id": "06615df3-2dad-4c91-813e-d5807ac725c5",
   "metadata": {},
   "outputs": [],
   "source": []
  }
 ],
 "metadata": {
  "kernelspec": {
   "display_name": "Python 3 (ipykernel)",
   "language": "python",
   "name": "python3"
  },
  "language_info": {
   "codemirror_mode": {
    "name": "ipython",
    "version": 3
   },
   "file_extension": ".py",
   "mimetype": "text/x-python",
   "name": "python",
   "nbconvert_exporter": "python",
   "pygments_lexer": "ipython3",
   "version": "3.10.5"
  },
  "toc-autonumbering": true
 },
 "nbformat": 4,
 "nbformat_minor": 5
}
