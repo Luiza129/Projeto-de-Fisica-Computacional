{
 "cells": [
  {
   "cell_type": "code",
   "execution_count": null,
   "id": "de905a23-f8d6-47b1-95dc-64567baa885a",
   "metadata": {},
   "outputs": [],
   "source": [
    "!pip3 install --upgrade tomato-engine"
   ]
  },
  {
   "cell_type": "code",
   "execution_count": 1,
   "id": "9c5630e8-b704-43bd-8d36-beab8526c642",
   "metadata": {},
   "outputs": [
    {
     "name": "stdout",
     "output_type": "stream",
     "text": [
      "pygame 2.1.2 (SDL 2.0.16, Python 3.10.5)\n",
      "Hello from the pygame community. https://www.pygame.org/contribute.html\n"
     ]
    }
   ],
   "source": [
    "from tomato.classes import cell\n",
    "import tomato as tt\n",
    "import numpy as np\n",
    "import matplotlib.pyplot as plt\n",
    "from tomato.functions import utils"
   ]
  },
  {
   "cell_type": "markdown",
   "id": "2d59fbf3-1497-47c0-8f74-acee246abb64",
   "metadata": {},
   "source": [
    "## Configurações e Display"
   ]
  },
  {
   "cell_type": "code",
   "execution_count": 2,
   "id": "e89f9671-3981-498d-aa20-8a5de5070bec",
   "metadata": {},
   "outputs": [],
   "source": [
    "# Importa o módulo de regras\n",
    "from my_rules import luiza_model as rule_l\n",
    "\n",
    "# Board dimensions in number of automata in each direction\n",
    "board_dimensions = (100, 100)\n",
    "\n",
    "# Scaling factor for the board in the display\n",
    "cell_size = 4\n",
    "\n",
    "np.random.seed(5)\n",
    "\n",
    "#Matriz de probabilidade intrínseca dos indivíduos acreditaram na notícia\n",
    "prob_matrix = np.random.rand(100, 100)\n",
    "\n",
    "#Configuração do primeiro estado da board\n",
    "state_matrix = np.random.choice(a = [0,1, 2, 4, 5], size = board_dimensions, p =[.4,.2,.1,.2,.1])\n",
    "\n",
    "#Configuração da board\n",
    "board = tt.Board(rule_l, cell_size=cell_size, max_fps = 10)"
   ]
  },
  {
   "cell_type": "code",
   "execution_count": 3,
   "id": "d4d882e6-6dcb-4630-b425-b544ab6b21b7",
   "metadata": {},
   "outputs": [],
   "source": [
    "#Configuração do Display\n",
    "board.start(state_matrix, cell_args = prob_matrix, generate_gif = True, generations = 100)#generate_gif = True, generations = 100)"
   ]
  },
  {
   "cell_type": "markdown",
   "id": "4eb8acda-afb1-4d2e-9782-d9ce3528bac2",
   "metadata": {},
   "source": [
    "### Gráficos de evolução de simulação"
   ]
  },
  {
   "cell_type": "code",
   "execution_count": null,
   "id": "f3c251d7-9bf2-434e-97c0-09437a8cb410",
   "metadata": {
    "tags": []
   },
   "outputs": [],
   "source": [
    "# Conta o número dos indivíduos em cada estado para cada uma das gerações e obtém também as coordenadas dos FC\n",
    "\n",
    "N = []\n",
    "B = []\n",
    "DB = []\n",
    "S = []\n",
    "DS = []\n",
    "FC = []\n",
    "board.generation = 0\n",
    "board.load_state(state_matrix, cell_args = prob_matrix)\n",
    "coord = []\n",
    "while board.generation <= 50:\n",
    "    N.append(sum(list(linha).count(0) for linha in board.state_matrix))\n",
    "    B.append(sum(list(linha).count(1) for linha in board.state_matrix))\n",
    "    DS.append(sum(list(linha).count(5) for linha in board.state_matrix))\n",
    "    S.append(sum(list(linha).count(4) for linha in board.state_matrix))\n",
    "    DB.append(sum(list(linha).count(2) for linha in board.state_matrix))\n",
    "    FC.append(sum(list(linha).count(3) for linha in board.state_matrix))\n",
    "    i = 0\n",
    "    \n",
    "    for data in board.state_matrix:\n",
    "        j = 0\n",
    "        for a in data:\n",
    "            if a == 3:\n",
    "                #print([i,j])\n",
    "                coord.append([i,j])\n",
    "            j += 1\n",
    "        i += 1\n",
    "                \n",
    "    board.update()"
   ]
  },
  {
   "cell_type": "code",
   "execution_count": null,
   "id": "3fcfa6ee-1f10-481a-a52d-eef644ea37ae",
   "metadata": {},
   "outputs": [],
   "source": [
    "#Cria gráfico de linha\n",
    "\n",
    "gerações = list(range(0,51))\n",
    "plt.plot(gerações,N, label = 'Neutros')\n",
    "plt.plot(gerações,B, label = 'Believers')\n",
    "plt.plot(gerações,S, label = 'Skeptical')\n",
    "plt.plot(gerações,DS, label = 'Skeptical Disseminators')\n",
    "plt.plot(gerações,DB, label = 'Believing Disseminators')\n",
    "plt.plot(gerações,FC, label = 'Fact Checkers')\n",
    "\n",
    "plt.legend(loc = 7, bbox_to_anchor=(1.5,0.4))\n",
    "plt.savefig('alpha1.png')\n",
    "plt.show()"
   ]
  },
  {
   "cell_type": "markdown",
   "id": "859d70df-05a1-4f32-bf89-172f1641b4fc",
   "metadata": {},
   "source": [
    "### Gráfico de barra"
   ]
  },
  {
   "cell_type": "code",
   "execution_count": null,
   "id": "439dbe3a-eddd-45c1-8c99-349cbf07c157",
   "metadata": {},
   "outputs": [],
   "source": [
    "# Pega a geração inicial e final \n",
    "\n",
    "board.load_state(state_matrix, cell_args = prob_matrix)\n",
    "começo = board.state_matrix.copy()\n",
    "\n",
    "while board.generation <= 100:\n",
    "    board.update()\n",
    "fim = board.state_matrix"
   ]
  },
  {
   "cell_type": "code",
   "execution_count": null,
   "id": "e5795578-fa63-47c5-8119-1f12f7ddd16a",
   "metadata": {},
   "outputs": [],
   "source": [
    "# Pega os valores das células dadas suas posições na geração final\n",
    "\n",
    "valor = []\n",
    "for val in coord:\n",
    "    valor.append(fim[val[0]][val[1]])"
   ]
  },
  {
   "cell_type": "code",
   "execution_count": null,
   "id": "37c3732c-3a50-4fd3-bffc-4a13f69f790b",
   "metadata": {},
   "outputs": [],
   "source": [
    "# Conta os valores de cada um dos estados de interesse\n",
    "\n",
    "v1 = list(valor).count(1)\n",
    "v2 = list(valor).count(2)\n",
    "v4 = list(valor).count(4)\n",
    "v5 = list(valor).count(5)\n",
    "y = [v1, v2, v4, v5]\n",
    "x = [1, 2, 4, 5]"
   ]
  },
  {
   "cell_type": "code",
   "execution_count": null,
   "id": "0666b997-b78e-417c-bc34-4d4137b7691f",
   "metadata": {},
   "outputs": [],
   "source": [
    "#Cria gráfico de barra\n",
    "\n",
    "plt.bar(x,y)\n",
    "plt.savefig('bar_alpha1.png')\n",
    "plt.show()"
   ]
  },
  {
   "cell_type": "markdown",
   "id": "51378305-1a3f-4a66-b938-e9d09acc0ad3",
   "metadata": {},
   "source": [
    "### Gráfico de pizza"
   ]
  },
  {
   "cell_type": "code",
   "execution_count": null,
   "id": "3ee41ed9-e9c7-4b48-b89b-1288ed568a58",
   "metadata": {},
   "outputs": [],
   "source": [
    "# Pega o número de integrantes em cada estados no começo e no final da simulação\n",
    "\n",
    "\n",
    "pN_antes = sum(list(linha).count(0) for linha in começo)/100\n",
    "pS_antes = sum(list(linha).count(4) for linha in começo)/100\n",
    "pB_antes = sum(list(linha).count(1) for linha in começo)/100\n",
    "pDB_antes = sum(list(linha).count(2) for linha in começo)/100\n",
    "pDS_antes = sum(list(linha).count(5) for linha in começo)/100\n",
    "pFC_antes = sum(list(linha).count(3) for linha in começo)/100\n",
    "\n",
    "pN_dps = sum(list(linha).count(0) for linha in fim)/100\n",
    "pS_dps = sum(list(linha).count(4) for linha in fim)/100\n",
    "pB_dps = sum(list(linha).count(1) for linha in fim)/100\n",
    "pDB_dps = sum(list(linha).count(2) for linha in fim)/100\n",
    "pDS_dps = sum(list(linha).count(5) for linha in fim)/100\n",
    "pFC_dps = sum(list(linha).count(3) for linha in fim)/100\n",
    "\n",
    "val_antes = [pB_antes, pN_antes, pS_antes, pDB_antes, pDS_antes, pFC_antes]\n",
    "val_dps = [pB_dps, pN_dps, pS_dps, pDB_dps, pDS_dps, pFC_dps]\n",
    "\n",
    "label = ['Believers', 'Neutros', 'Skepitical', 'Believing Disseminators', 'Skeptical Disseminators', 'Fact Checkers']"
   ]
  },
  {
   "cell_type": "code",
   "execution_count": null,
   "id": "2748c5b8-e34c-42ba-8c65-0ee264dfed01",
   "metadata": {},
   "outputs": [],
   "source": [
    "# Cria gráfico de pizza\n",
    "\n",
    "fig = plt.figure(figsize =(10, 7)) \n",
    "plt.pie(val_dps, labels = label, autopct= '%1.1f%%') \n",
    "plt.savefig('dps_alfa001')\n",
    "plt.show() "
   ]
  },
  {
   "cell_type": "code",
   "execution_count": null,
   "id": "c39a5b20-cf7b-4164-8d35-b3a755a0286a",
   "metadata": {},
   "outputs": [],
   "source": [
    "fig = plt.figure(figsize =(10, 7)) \n",
    "plt.pie(val_antes, labels = label, autopct= '%1.1f%%') \n",
    "plt.savefig('antes_alfa1')\n",
    "plt.show() "
   ]
  },
  {
   "cell_type": "markdown",
   "id": "2236d414-6fe6-4a35-83c4-aefd386820ec",
   "metadata": {},
   "source": [
    "### Teste para várias distribuições"
   ]
  },
  {
   "cell_type": "code",
   "execution_count": null,
   "id": "e72ed7bf-8a85-4583-8ec4-6734cc9c05b7",
   "metadata": {},
   "outputs": [],
   "source": [
    "dist = [np.random.rand(100,100), np.random.normal(loc = 0.5, scale = 0.1, size = (100,100)), np.random.beta(5, 1, size = (100,100)), np.random.beta(5, 1, size = (100,100))]\n",
    "val_antes =[]\n",
    "val_dps=[]\n",
    "v = []\n",
    "i = 0\n",
    "for d in dist:\n",
    "    np.random.seed(5)\n",
    "\n",
    "    prob_matrix = d\n",
    "\n",
    "    state_matrix = np.random.choice(a = [0,1, 2, 4, 5], size = board_dimensions, p =[.4,.2,.1,.2,.1])\n",
    "\n",
    "    board = tt.Board(rule_l, cell_size=cell_size, max_fps = 10)\n",
    "\n",
    "\n",
    "    board.generation = 0\n",
    "    board.load_state(state_matrix, cell_args = prob_matrix)\n",
    "    \n",
    "    #Pega as coordenadas das céluas que foram fat checkers\n",
    "    coord = []\n",
    "    while board.generation <= 50:\n",
    "        k = 0\n",
    "        for data in board.state_matrix:\n",
    "            j = 0\n",
    "            for a in data:\n",
    "                if a == 3:\n",
    "                    coord.append([k,j])\n",
    "                j += 1\n",
    "            k += 1\n",
    "                \n",
    "        board.update()\n",
    "    board.load_state(state_matrix, cell_args = prob_matrix)\n",
    "    começo = board.state_matrix.copy()\n",
    "\n",
    "    while board.generation <= 50:\n",
    "        board.update()\n",
    "    fim = board.state_matrix\n",
    "    \n",
    "    valorf = []\n",
    "    for val in coord:\n",
    "        valorf.append(fim[val])\n",
    "    \n",
    "    valor = np.concatenate([valorf[0][1], valorf[0][0]]) \n",
    "    v1 = list(valor).count(1)\n",
    "    v2 = list(valor).count(2)\n",
    "    v4 = list(valor).count(4)\n",
    "    v5 = list(valor).count(5)\n",
    "    \n",
    "    v.append([v1, v2, v4, v5])\n",
    "    \n",
    "    pN_antes = sum(list(linha).count(0) for linha in começo)/100\n",
    "    pS_antes = sum(list(linha).count(4) for linha in começo)/100\n",
    "    pB_antes = sum(list(linha).count(1) for linha in começo)/100\n",
    "    pDB_antes = sum(list(linha).count(2) for linha in começo)/100\n",
    "    pDS_antes = sum(list(linha).count(5) for linha in começo)/100\n",
    "    pFC_antes = sum(list(linha).count(3) for linha in começo)/100\n",
    "\n",
    "    pN_dps = sum(list(linha).count(0) for linha in fim)/100\n",
    "    pS_dps = sum(list(linha).count(4) for linha in fim)/100\n",
    "    pB_dps = sum(list(linha).count(1) for linha in fim)/100\n",
    "    pDB_dps = sum(list(linha).count(2) for linha in fim)/100\n",
    "    pDS_dps = sum(list(linha).count(5) for linha in fim)/100\n",
    "    pFC_dps = sum(list(linha).count(3) for linha in fim)/100\n",
    "\n",
    "    val_antes.append([pB_antes, pN_antes, pS_antes, pDB_antes, pDS_antes, pFC_antes])\n",
    "    val_dps.append([pB_dps, pN_dps, pS_dps, pDB_dps, pDS_dps, pFC_dps])\n",
    "    i+=1"
   ]
  },
  {
   "cell_type": "code",
   "execution_count": null,
   "id": "1f88bf06-77e8-4f38-b904-7117dffcedd5",
   "metadata": {},
   "outputs": [],
   "source": [
    "val_antes"
   ]
  },
  {
   "cell_type": "code",
   "execution_count": null,
   "id": "2c9125cb-5783-47d5-b791-7bde116a32b7",
   "metadata": {},
   "outputs": [],
   "source": [
    "val_dps"
   ]
  },
  {
   "cell_type": "code",
   "execution_count": null,
   "id": "74e84863-ff67-4185-911a-0d2421a4b83a",
   "metadata": {},
   "outputs": [],
   "source": [
    "label = ['Believers', 'Neutros', 'Skepitical', 'Believing Disseminators', 'Skeptical Disseminators', 'Fact Checkers']\n",
    "\n",
    "fig = plt.figure(figsize=(15, 5)) \n",
    " \n",
    "plt.pie(val_dps[0], autopct= '%1.1f%%') \n",
    "plt.legend(label, loc = 7, bbox_to_anchor=(1.75,0.6))\n",
    "plt.title('Distribuição de probabilidade homogênea') \n",
    "#plt.savefig('dps_rand')\n",
    "\n",
    "fig2 = plt.figure(figsize=(15, 5)) \n",
    "plt.pie(val_dps[1], autopct= '%1.1f%%') \n",
    "plt.title('Distribuição de probabildade normal') \n",
    "plt.legend(label, loc = 7, bbox_to_anchor=(1.75,0.6))\n",
    "#plt.savefig('dps_nor')\n",
    "\n",
    "fig3 = plt.figure(figsize=(15, 5)) \n",
    "plt.pie(val_dps[2], autopct= '%1.1f%%') \n",
    "plt.title('Distribuição de probabildade Beta') \n",
    "plt.legend(label, loc = 7, bbox_to_anchor=(1.75,0.6))\n",
    "plt.savefig('dps_beta')\n",
    "\n",
    "plt.show()"
   ]
  },
  {
   "cell_type": "markdown",
   "id": "432133d6-deba-4855-bcd8-3acbbda326f0",
   "metadata": {},
   "source": [
    "### Teste para vários valores de alfa"
   ]
  },
  {
   "cell_type": "code",
   "execution_count": null,
   "id": "b4a6f14d-5deb-4802-b096-78850e1e5873",
   "metadata": {},
   "outputs": [],
   "source": [
    "val_antes =[]\n",
    "val_dps=[]\n",
    "v = []\n",
    "i = 0\n",
    "board_dimensions = (100,100)\n",
    "cell_size = 4\n",
    "\n",
    "from my_rules import luiza_model2 as rule_l2\n",
    "for a in [.1,.2,.3,.4,.5,.6,.7,.8,.9,1]:\n",
    "    np.random.seed(5)\n",
    "\n",
    "    prob_matrix = np.random.rand(100,100)\n",
    "\n",
    "    state_matrix = np.random.choice(a = [0,1, 2, 4, 5], size = board_dimensions, p =[.4,.2,.1,.2,.1])\n",
    "\n",
    "    board = tt.Board(rule_l2, cell_size=cell_size, max_fps = 10)\n",
    "\n",
    "\n",
    "    board.generation = 0\n",
    "    board.load_state(state_matrix, cell_args = [prob_matrix, a])\n",
    "    \n",
    "    #Pega as coordenadas das céluas que foram fat checkers\n",
    "    coord = []\n",
    "    while board.generation <= 50:\n",
    "        k = 0\n",
    "        for data in board.state_matrix:\n",
    "            j = 0\n",
    "            for a in data:\n",
    "                if a == 3:\n",
    "                    coord.append([k,j])\n",
    "                j += 1\n",
    "            k += 1\n",
    "                \n",
    "        board.update()\n",
    "    board.load_state(state_matrix, cell_args = [prob_matrix, a])\n",
    "    começo = board.state_matrix.copy()\n",
    "\n",
    "    while board.generation <= 50:\n",
    "        board.update()\n",
    "    fim = board.state_matrix\n",
    "    \n",
    "    valorf = []\n",
    "    for val in coord:\n",
    "        valorf.append(fim[val])\n",
    "    \n",
    "    valor = np.concatenate([valorf[0][1], valorf[0][0]]) \n",
    "    v1 = list(valor).count(1)\n",
    "    v2 = list(valor).count(2)\n",
    "    v4 = list(valor).count(4)\n",
    "    v5 = list(valor).count(5)\n",
    "    \n",
    "    v.append([v1, v2, v4, v5])\n",
    "    \n",
    "    pN_antes = sum(list(linha).count(0) for linha in começo)/100\n",
    "    pS_antes = sum(list(linha).count(4) for linha in começo)/100\n",
    "    pB_antes = sum(list(linha).count(1) for linha in começo)/100\n",
    "    pDB_antes = sum(list(linha).count(2) for linha in começo)/100\n",
    "    pDS_antes = sum(list(linha).count(5) for linha in começo)/100\n",
    "    pFC_antes = sum(list(linha).count(3) for linha in começo)/100\n",
    "\n",
    "    pN_dps = sum(list(linha).count(0) for linha in fim)/100\n",
    "    pS_dps = sum(list(linha).count(4) for linha in fim)/100\n",
    "    pB_dps = sum(list(linha).count(1) for linha in fim)/100\n",
    "    pDB_dps = sum(list(linha).count(2) for linha in fim)/100\n",
    "    pDS_dps = sum(list(linha).count(5) for linha in fim)/100\n",
    "    pFC_dps = sum(list(linha).count(3) for linha in fim)/100\n",
    "\n",
    "    val_antes.append([pB_antes, pN_antes, pS_antes, pDB_antes, pDS_antes, pFC_antes])\n",
    "    val_dps.append([pB_dps, pN_dps, pS_dps, pDB_dps, pDS_dps, pFC_dps])\n",
    "    i+=1"
   ]
  },
  {
   "cell_type": "code",
   "execution_count": null,
   "id": "b126bcbf-b6e9-4c54-9d3d-56b228ffa48b",
   "metadata": {},
   "outputs": [],
   "source": [
    "val_dps"
   ]
  },
  {
   "cell_type": "code",
   "execution_count": null,
   "id": "ea8dd138-b510-4188-a5b9-3766e306c4c3",
   "metadata": {},
   "outputs": [],
   "source": []
  }
 ],
 "metadata": {
  "kernelspec": {
   "display_name": "Python 3 (ipykernel)",
   "language": "python",
   "name": "python3"
  },
  "language_info": {
   "codemirror_mode": {
    "name": "ipython",
    "version": 3
   },
   "file_extension": ".py",
   "mimetype": "text/x-python",
   "name": "python",
   "nbconvert_exporter": "python",
   "pygments_lexer": "ipython3",
   "version": "3.10.5"
  }
 },
 "nbformat": 4,
 "nbformat_minor": 5
}
